{
 "cells": [
  {
   "cell_type": "code",
   "execution_count": 20,
   "id": "a88e2792-be6b-4aea-86d6-79bea13b8441",
   "metadata": {},
   "outputs": [
    {
     "name": "stdout",
     "output_type": "stream",
     "text": [
      "Top 10 most common words (excluding stopwords):\n",
      "blues: 360\n",
      "music: 105\n",
      "african: 45\n",
      "style: 41\n",
      "american: 36\n",
      "rock: 33\n",
      "guitar: 30\n",
      "early: 28\n",
      "chicago: 26\n",
      "records: 24\n"
     ]
    }
   ],
   "source": [
    "import spacy\n",
    "from collections import Counter\n",
    "#Extract the top 10 most common words in the given text excluding stopwords. \n",
    "nlp = spacy.load(\"en_core_web_sm\")\n",
    "\n",
    "file_path = \"blues.txt\"  \n",
    "\n",
    "with open(file_path, \"r\", encoding=\"utf-8\") as file:\n",
    "    text = file.read()\n",
    "\n",
    "doc = nlp(text)\n",
    "\n",
    "words = [token.text.lower() for token in doc if token.is_alpha and not token.is_stop]\n",
    "\n",
    "word_freq = Counter(words)\n",
    "\n",
    "top_10 = word_freq.most_common(10)\n",
    "\n",
    "print(\"Top 10 most common words (excluding stopwords):\")\n",
    "for word, freq in top_10:\n",
    "    print(f\"{word}: {freq}\")"
   ]
  },
  {
   "cell_type": "code",
   "execution_count": 21,
   "id": "20fea905-661b-4dcd-817d-8aaf93328f91",
   "metadata": {
    "scrolled": true
   },
   "outputs": [
    {
     "name": "stdout",
     "output_type": "stream",
     "text": [
      "Nouns in the text:\n",
      "['Blues', 'music', 'genre[3', 'form', 'African', 'Americans', 'Deep', 'South', 'United', 'States', '1860s.[2', 'Blues', 'spirituals', 'work', 'songs', 'field', 'hollers', 'shouts', 'chants', 'narrative', 'ballads', 'culture', 'blues', 'form', 'jazz', 'rhythm', 'blues', 'rock', 'roll', 'call', 'response', 'pattern', 'blues', 'scale', 'chord', 'progressions', 'bar', 'blues', 'notes', 'notes', 'thirds', 'fifths', 'sevenths', 'pitch', 'part', 'sound', 'Blues', 'shuffles', 'bass', 'trance', 'rhythm', 'effect', 'groove', 'Blues', 'music', 'lyrics', 'bass', 'lines', 'instrumentation', 'blues', 'verses', 'line', 'times', 'decades', 'century', 'structure', 'AAB', 'pattern', 'line', 'bars', 'repetition', 'line', 'bars', 'blues', 'form', 'narrative', 'discrimination', 'challenges', 'African', 'Americans.[4', 'elements', 'call', 'response', 'format', 'use', 'notes', 'music', 'Africa', 'origins', 'blues', 'music', 'community', 'spirituals', 'appearance', 'blues', 'ending', 'slavery', 'development', 'juke', 'joints', 'freedom', 'slaves', 'Chroniclers', 'blues', 'music', 'dawn', 'century', 'publication', 'blues', 'sheet', 'music', 'Blues', 'music', 'traditions', 'slaves', 'variety', 'styles', 'subgenres', 'Blues', 'subgenres', 'country', 'blues', 'Delta', 'blues', 'Piedmont', 'blues', 'blues', 'styles', 'Chicago', 'blues', 'Coast', 'blues', 'World', 'War', 'II', 'transition', 'blues', 'opening', 'blues', 'music', 'audience', 'listeners', '1960s', '1970s', 'form', 'blues', 'rock', 'blues', 'styles', 'rock', 'music', 'Etymology', 'term', 'Blues', 'devils', 'sadness', 'use', 'term', 'sense', 'George', 'Colman', 'act', 'farce', 'Blue', 'Devils', 'phrase', 'devils', 'usage', '1600s', 'hallucinations', 'alcohol', 'withdrawal\".[6', 'time', 'phrase', 'reference', 'devils', 'state', 'agitation', 'depression', '1800s', 'United', 'States', 'term', 'blues', 'drinking', 'alcohol', 'meaning', 'phrase', 'law', 'sale', 'alcohol', 'Sunday.[6', 'sense', 'state', 'mind', 'John', 'James', 'Audubon', 'wife', 'blues\".[7', 'Henry', 'David', 'Thoreau', 'book', 'Walden', 'blues', 'chapter', 'time', 'solitude', 'account', 'quest', 'phrase', 'blues', 'Charlotte', 'Forten', 'diary', 'December', 'woman', 'Pennsylvania', 'schoolteacher', 'South', 'Carolina', 'slaves', 'freedmen', 'blues', 'depression', 'number', 'songs', 'Poor', 'Rosy', 'slaves', 'manner', 'singing', 'Forten', 'songs', 'heart', 'spirit', 'conditions', 'blues', 'use', 'phrase', 'music', 'print', 'Hart', 'Wand', 'Dallas', 'Blues', 'blues', 'composition.[10][11', 'lyrics', 'phrase', 'mood.[12', 'Lyrics', 'blues', 'singer', 'Ma', 'Rainey', '1886–1939', 'Mother', 'Blues', 'blues', 'verses', 'line', 'times', 'structure', 'blues', 'lyrics', 'today', 'decades', 'century', 'AAB', 'pattern', 'structure', 'line', 'bars', 'repetition', 'line', 'bars.[13', 'pattern', 'blues', 'songs', 'Dallas', 'Blues', 'Saint', 'Louis', 'Blues', 'W.C.', 'Handy', 'AAB', 'pattern', 'monotony', 'lines', 'times.[14', 'lyrics', 'talk', 'style', 'melody', 'form', 'blues', 'blues', 'form', 'narrative', 'singers', 'woes', 'world', 'reality', 'love', 'cruelty', 'police', 'officers', 'oppression', 'hands', 'folk', 'times\".[15', 'melancholy', 'suggestion', 'Igbo', 'origin', 'blues', 'reputation', 'Igbo', 'plantations', 'Americas', 'music', 'outlook', 'life', 'enslaved.[16][17', 'historians', 'evidence', 'Sub', 'influence', 'blues', 'polyrhythm', 'percussion', 'drums', 'drums', 'participation', 'West', 'music', 'savannah', 'historian', 'Paul', 'Oliver', 'roots', 'blues', 'forest', 'regions', 'Africa', 'blues', 'savanna', 'hinterland', 'Senegambia', 'Mali', 'Burkina', 'Faso', 'Northern', 'Ghana', 'Niger', 'Nigeria', 'ethnomusicologist', 'John', 'Storm', 'Roberts', 'parallels', 'savanna', 'belt', 'string', 'playing', 'techniques', 'blues', 'guitarists', 'kora', 'Senegal', 'Guinea', 'style', 'rhythms', 'ground', 'bass', 'patterns', 'layer', 'techniques', 'hundreds', 'blues', 'lyrics', 'troubles', 'society', 'instance', 'Blind', 'Lemon', 'Jefferson', 'Water', 'Blues', 'Great', 'Mississippi', 'Flood', 'Backwater', 'peoples', 'time', 'backwater', 'peoples', 'time', 'hearing', 'Memphis', 'girl', 'mine', 'blues', 'association', 'misery', 'oppression', 'lyrics', 'Rebecca', 'Rebecca', 'legs', 'Rebecca', 'Rebecca', 'legs', 'baby', 'hell', 'me.[20', 'Hokum', 'blues', 'content', 'performance', 'style.[21', 'Tampa', 'Red', 'Georgia', 'Tom', '1928)[22', 'wordplay', 'meaning', 'familiarity', 'Blues', 'songs', 'lyrics', 'blues', 'content', 'blues', 'relationship', 'woes', 'worries', 'themes', 'prewar', 'blues', 'depression', 'farming', 'devils', 'gambling', 'magic', 'floods', 'drought', 'blues.[23', 'writer', 'Ed', 'Morales', 'Yoruba', 'mythology', 'part', 'blues', 'Robert', 'Johnson', 'Cross', 'Road', 'Blues', 'reference', 'Eleggua', 'orisha', 'charge', 'influence', 'repertoires', 'blues', 'artists', 'Charley', 'Patton', 'Skip', 'James', 'songs', 'spirituals.[26', 'Reverend', 'Gary', 'Davis[27', 'Blind', 'Willie', 'Johnson[28', 'examples', 'artists', 'blues', 'musicians', 'music', 'lyrics', 'spirituals', 'Form', 'blues', 'form', 'form', 'progression', 'chords', 'call', 'response', 'scheme', 'music', 'decades', 'century', 'blues', 'music', 'terms', 'chord', 'progression.[29', 'popularity', 'performers', 'Bessie', 'Smith', 'use', 'bar', 'blues', 'music', 'industry', 'chord', 'progressions', 'bar', 'forms', 'blues', 'examples', 'Blues', 'Trouble', 'Mind', 'Big', 'Bill', 'Broonzy', 'Key', 'Highway', 'bar', 'blues', 'Ray', 'Charles', 'Sweet', 'Bars', 'Herbie', 'Hancock', 'Watermelon', 'Man', 'numbers', 'bars', 'bar', 'progression', 'Top', 'World', 'Walter', 'Vinson', 'Chords', 'bar', 'scheme', 'Chords', 'blues', 'C', 'IV', 'I7', 'IV', 'IV', 'I7', 'V', 'V', 'IV', 'V', 'C', 'C', 'C', 'C7', 'F', 'F', 'C', 'C7', 'G', 'G', 'C', 'C', 'bar', 'lyric', 'framework', 'blues', 'compositions', 'progression', 'bars', 'time', 'signature', 'blues', 'chords', 'bar', 'blues', 'set', 'chords', 'bar', 'scheme', 'numbers', 'degrees', 'progression', 'instance', 'blues', 'key', 'C', 'C', 'tonic', 'chord', 'I', 'F', 'IV', 'chord', 'V', 'turnaround', 'transition', 'beginning', 'progression', 'lyrics', 'beat', 'bar', 'beat', 'bar', 'bars', 'instrumentalist', 'break', 'harmony', 'bar', 'break', 'turnaround', 'notes', 'analysis', 'terms', 'chords', 'time', 'chords', 'form', 'use', 'interval', 'blues', 'blues', 'Blues', 'chords', 'chord', 'note', 'frequency', 'ratio', 'note', 'ratio', 'interval', 'scale.[32', 'convenience', 'necessity', 'interval', 'chord', 'pentatonic', 'scale', 'ⓘ', 'melody', 'blues', 'use', 'major', 'scale.[33', 'Blues', 'shuffles', 'bass', 'trance', 'rhythm', 'call', 'response', 'effect', 'groove', 'blues', 'Afro', 'origins', 'shuffles', 'role', 'swing', 'music.[34', 'shuffles', 'signature', 'R&B', 'wave', 'mid-1940s,[35', 'note', 'riff', 'bass', 'strings', 'guitar', 'riff', 'bass', 'drums', 'groove', 'Shuffle', 'rhythm', 'dow', 'da', 'dow', 'da', 'dow', 'da', 'da', 'dump', 'da', 'dump', 'swung', 'notes', 'guitar', 'bass', 'quarter', 'motion', 'chord', 'back', 'History', 'Origin', 'article', 'Origins', 'blues', 'Hart', 'Wand', 'Dallas', 'Blues', 'W.C.', 'Handy', 'Memphis', 'Blues', 'year', 'recording', 'singer', 'Mamie', 'Smith', 'rendition', 'Perry', 'Bradford', 'Crazy', 'Blues', 'origins', 'blues', 'decades', '1890.[37', 'music', 'discrimination', 'U.S.', 'society', 'circles,[38', 'rate', 'literacy', 'African', 'Americans', 'time.[39', 'Reports', 'blues', 'music', 'Texas', 'Deep', 'South', 'dawn', 'century', 'Charles', 'Peabody', 'appearance', 'blues', 'music', 'Clarksdale', 'Mississippi', 'Gate', 'Thomas', 'songs', 'Texas', 'observations', 'recollections', 'Jelly', 'Roll', 'Morton', 'blues', 'music', 'New', 'Orleans', 'Ma', 'Rainey', 'blues', 'year', 'Missouri', 'W.C.', 'Handy', 'blues', 'Tutwiler', 'Mississippi', 'research', 'field', 'Howard', 'W.', 'Odum', 'anthology', 'folk', 'songs', 'Lafayette', 'County', 'Mississippi', 'Newton', 'County', 'Georgia', 'recordings', 'blues', 'music', 'proto', 'blues', 'Paul', 'Oliver', 'Odum', 'research', 'purposes', 'beginning', 'century', 'lost.[41', 'Musicologist', 'John', 'Lomax', 'hands', 'musician', 'Uncle', 'Rich', 'Brown', 'Sumterville', 'Alabama', 'recordings', 'Lawrence', 'Gellert', 'recordings', 'Robert', 'W.', 'Gordon', 'head', 'Archive', 'American', 'Folk', 'Songs', 'Library', 'Congress', 'Gordon', 'successor', 'library', 'John', 'Lomax', '1930s', 'Lomax', 'son', 'Alan', 'number', 'blues', 'recordings', 'variety', 'proto', 'blues', 'styles', 'field', 'hollers', 'ring', 'record', 'blues', 'music', 'recordings', 'artists', 'Lead', 'Henry', 'sources', 'existence', 'structures', 'twelve-', 'sixteen', 'bar.[45][46', 'reasons', 'appearance', 'blues', 'known.[47', 'appearance', 'blues', 'Emancipation', 'Act', 'period', 'post', '-', 'emancipation', 'establishment', 'juke', 'joints', 'places', 'African', 'Americans', 'music', 'dance', 'day', 'work.[48', 'period', 'transition', 'slavery', 'sharecropping', 'scale', 'production', 'expansion', 'railroads', 'United', 'States', 'scholars', 'development', 'blues', 'music', 'move', 'group', 'performance', 'performance', 'development', 'blues', 'freedom', 'people.[49', 'Lawrence', 'Levine', 'relationship', 'emphasis', 'individual', 'popularity', 'Booker', 'T.', 'Washington', 'teachings', 'rise', 'blues', 'Levine', 'African', 'Americans', 'way', 'slavery', 'music', 'music', 'characteristics', 'blues', 'music', 'genre', 'shape', 'idiosyncrasies', 'performers.[50', 'characteristics', 'creation', 'blues', 'Call', 'response', 'shouts', 'form', 'blues', 'music', 'expression', 'style', 'accompaniment', 'harmony', 'formality', 'structure\".[51', 'form', 'pre', '-', 'blues', 'slave', 'ring', 'shouts', 'field', 'hollers', 'songs', 'content\".[52', 'Blues', 'music', 'traditions', 'slaves', 'West', 'Africa', 'Black', 'Americans', 'areas', 'variety', 'styles', 'subgenres', 'variations', 'United', 'States', 'blues', 'style', 'structure', 'call', 'response', 'tradition', 'interplay', 'voice', 'guitar,[53][54', 'blues', 'resemblance', 'styles', 'griots.[55][56', 'theories', 'beats', 'measure', 'structure', 'blues', 'origins', 'tradition', 'pow', 'drumming.[57', 'scholars', 'influences', 'blues', 'structures', 'styles', 'savanna', 'sahel', 'Lucy', 'Durran', 'similarities', 'melodies', 'Bambara', 'people', 'degree', 'people', 'Wolof', 'people', 'Mandinka', 'people.[58', 'Gerard', 'Kubik', 'similarities', 'styles', 'savanna', 'central', 'Africa', 'sources', 'people.[59', 'form', 'ancestor', 'blues.[60', 'call', 'response', 'format', 'music', 'Africa', 'notes', 'use', 'blues', 'origin', 'Negro', 'Love', 'Song', 'English', 'composer', 'Samuel', 'Coleridge', 'Taylor', 'Suite', 'Piano', 'notes.[61', 'Diddley', 'bow', 'instrument', 'parts', 'American', 'South', 'jitterbug', 'string', 'century', 'banjo', 'African', 'instruments', 'transfer', 'performance', 'techniques', 'blues', 'banjo', 'music', 'instrument', 'griots', 'Africans', 'Igbo[63', 'halam', 'peoples', 'Wolof', 'Fula', 'Mandinka).[64', 'country', 'blues', 'use', 'banjo', 'blues', 'music', 'individuals', 'Papa', 'Charlie', 'Jackson', 'Gus', 'Cannon.[65', 'Blues', 'music', 'elements', 'airs', 'minstrel', 'shows', 'Negro', 'spirituals', 'style', 'ragtime', 'time', 'blues', 'patterns', 'music\".[67', 'forms', 'styles', 'blues', 'country', 'music', 'regions', 'United', 'States', 'century', 'blues', 'country', 'music', 'record', 'industry', 'marketing', 'categories', 'race', 'music', 'music', 'music', 'blacks', 'blacks', 'whites', 'whites', 'time', 'division', 'blues', 'country', 'ethnicity', 'performer', 'record', 'companies.[68][69', 'musicologists', 'blues', 'terms', 'chord', 'structures', 'forms', 'West', 'Africa', 'audiences', 'music', 'way', 'music', 'south', 'Mississippi', 'Delta', 'musicians', 'repertoire', 'thought', 'songsters', 'blues', 'musicians', 'notion', 'blues', 'genre', 'migration', 'countryside', 'areas', '1920s', 'development', 'recording', 'industry', 'Blues', 'code', 'word', 'record', 'listeners.[70', 'origins', 'blues', 'music', 'Afro', 'community', 'spirituals', 'origins', 'spirituals', 'blues', 'middle', 'century', 'slaves', 'hymns', 'Isaac', 'Watts', 'popular.[71', 'blues', 'definition', 'terms', 'chord', 'progressions', 'counterpart', 'spirituals', 'music', 'blacks.[25', 'community', 'musician', 'sin', 'down', 'music', 'blues', 'devil', 'music', 'Musicians', 'categories', 'gospel', 'singers', 'blues', 'singers', 'guitar', 'preachers', 'songsters', 'music', '1920s', 'categories', 'musicians', 'techniques', 'response', 'patterns', 'notes', 'slide', 'guitars', 'Gospel', 'music', 'forms', 'hymns', 'blues', 'form', 'counterpart.[25', 'blues', 'sheet', 'music', 'industry', 'deal', 'ragtime', 'music', 'sheet', 'music', 'industry', 'blues', 'compositions', 'Tin', 'Pan', 'Alley', 'adoption', 'blues', 'elements', 'Baby', 'Seals', 'Blues', 'Baby', 'Franklin', 'Seals', 'Artie', 'Matthews', 'Dallas', 'Blues', 'Hart', 'Wand', 'Memphis', 'Blues', 'W.C.', 'Handy.[72', 'Sheet', 'music', 'Saint', 'Louis', 'Blues', 'Handy', 'musician', 'composer', 'arranger', 'blues', 'blues', 'style', 'bands', 'singers', 'composer', 'Father', 'Blues', 'compositions', 'fusion', 'blues', 'ragtime', 'jazz', 'merger', 'habanera', 'rhythm', 'part', 'ragtime;[24][73', 'Handy', 'signature', 'work', 'Saint', 'Louis', 'Blues', 'blues', 'element', 'music', 'audiences', 'Handy', 'arrangements', 'blues', 'performers', 'performers', 'superstars', 'recording', 'sales', 'appetite', 'records', 'people', 'blues', 'performances', 'bars', 'entertainment', 'theaters', 'Blues', 'performances', 'Theater', 'Owners', 'Booking', 'Association', 'nightclubs', 'Cotton', 'Club', 'juke', 'joints', 'bars', 'Beale', 'Street', 'Memphis', 'record', 'companies', 'American', 'Record', 'Corporation', 'Okeh', 'Records', 'Paramount', 'Records', 'music', 'recording', 'industry', 'country', 'blues', 'performers', 'Bo', 'Carter', 'Jimmie', 'Rodgers', 'Blind', 'Lemon', 'Jefferson', 'Lonnie', 'Johnson', 'Tampa', 'Red', 'Blind', 'Blake', 'community', 'Kentucky', 'Sylvester', 'Weaver', 'slide', 'guitar', 'style', 'guitar', 'knife', 'blade', 'neck', 'bottle.[75', 'slide', 'guitar', 'part', 'Delta', 'blues', 'recordings', 'country', 'blues', 'city', 'blues', 'Country', 'blues', 'performers', 'accompaniment', 'banjo', 'guitar', 'styles', 'country', 'blues', 'century', 'Mississippi', 'Delta', 'blues', 'style', 'vocals', 'slide', 'guitar', 'Robert', 'Johnson[77', 'elements', 'blues', 'addition', 'Robert', 'Johnson', 'performers', 'style', 'predecessors', 'Charley', 'Patton', 'Son', 'House', 'Singers', 'Blind', 'Willie', 'McTell', 'Blind', 'Boy', 'Fuller', 'Piedmont', 'blues', 'tradition', 'ragtime', 'guitar', 'technique', 'Georgia', 'slide', 'Curley', 'Weaver', 'Tampa', 'Red', 'Barbecue', 'Bob', 'Hicks', 'James', 'Kokomo', 'Arnold', 'representatives', 'style.[79', 'Memphis', 'blues', 'style', '1930s', 'Memphis', 'Tennessee', 'jug', 'bands', 'Memphis', 'Jug', 'Band', 'Gus', 'Cannon', 'Jug', 'Stompers', 'Performers', 'Frank', 'Stokes', 'Sleepy', 'John', 'Estes', 'Robert', 'Wilkins', 'Kansas', 'Joe', 'McCoy', 'Casey', 'Bill', 'Weldon', 'Memphis', 'Minnie', 'variety', 'instruments', 'washboard', 'fiddle', 'kazoo', 'mandolin', 'Memphis', 'Minnie', 'virtuoso', 'guitar', 'style', 'Pianist', 'Memphis', 'Slim', 'career', 'Memphis', 'style', 'swing', 'elements', 'blues', 'musicians', 'Memphis', 'Chicago', '1930s', '1940s', 'part', 'blues', 'movement.[80][81', 'Bessie', 'Smith', 'blues', 'singer', 'voice', 'blues', 'City', 'blues', 'styles', 'performer', 'community', 'audience', 'vaudeville', 'blues', 'singers', 'three\"—Gertrude', 'Ma', 'Rainey', 'Bessie', 'Smith', 'Lucille', 'Bogan', 'Mamie', 'Smith', 'vaudeville', 'performer', 'blues', 'artist', 'American', 'blues', 'song', 'record', 'Crazy', 'Blues', 'copies', 'month.[83', 'Ma', 'Rainey', 'Mother', 'Blues', 'Bessie', 'Smith', 'center', 'tones', 'order', 'voice', 'back', 'room', 'Smith', 'song', 'key', 'artistry', 'notes', 'contralto', 'interpretation', 'vaudeville', 'singer', 'Lucille', 'Hegamin', 'woman', 'blues', 'Jazz', 'Victoria', 'Spivey', 'Queen', 'Victoria', 'Za', 'Zu', 'Girl', 'recording', 'career', 'years', 'recordings', 'race', 'records', 'records', 'audiences', 'recordings', 'blues', 'singers', 'buyers', 'blueswomen', 'contributions', 'genre', 'improvisation', 'lines', 'phrasing', 'emphasis', 'impact', 'lyrics', 'dramatics', 'shouts', 'groans', 'moans', 'wails', 'blues', 'women', 'changes', 'types', 'singing', 'spin', 'offs', 'jazz', 'Broadway', 'musicals', 'torch', 'songs', '1930s', '1940s', 'gospel', 'rhythm', 'blues', 'rock', 'roll', 'performers', 'musicians', 'era', 'Tampa', 'Red', 'Big', 'Bill', 'Broonzy', 'Carr', 'label', 'era', 'Chicago', 'Bluebird', 'Records', 'World', 'War', 'II', 'Tampa', 'Red', 'Guitar', 'Wizard', 'Carr', 'piano', 'Scrapper', 'Blackwell', 'guitar', 'format', '1950s', 'artists', 'Charles', 'Brown', 'Nat', 'King', 'boogie', 'woogie', 'bass', 'line', 'Play', 'ⓘ', 'Boogie', 'woogie', 'style', '1930s', 'blues', 'style', 'piano', 'boogie', 'woogie', 'singers', 'part', 'bands', 'combos', 'Boogie', 'woogie', 'style', 'bass', 'figure', 'ostinato', 'riff', 'shifts', 'level', 'hand', 'chord', 'trills', 'decorations', 'hand', 'Boogie', 'woogie', 'Chicago', 'Jimmy', 'Yancey', 'Boogie', 'Woogie', 'Trio', 'Albert', 'Ammons', 'Pete', 'Johnson', 'Meade', 'Lux', 'Lewis).[88', 'Chicago', 'boogie', 'woogie', 'performers', 'Clarence', 'Pine', 'Top', 'Smith', 'Earl', 'Hines', 'hand', 'rhythms', 'ragtime', 'pianists', 'figures', 'Armstrong', 'trumpet', 'hand\".[82', 'Louisiana', 'style', 'Professor', 'Longhair', 'Dr.', 'John', 'rhythm', 'blues', 'blues', 'styles', 'development', 'period', 'band', 'blues', 'territory', 'bands', 'Kansas', 'City', 'Bennie', 'Moten', 'orchestra', 'Jay', 'McShann', 'Count', 'Basie', 'Orchestra', 'blues', 'bar', 'blues', 'instrumentals', 'Basie', \"O'Clock\", 'Jump', 'Jumpin', 'Woodside', 'blues', 'Jimmy', 'songs', 'Chicago', 'Yesterday', 'band', 'blues', 'tune', 'Glenn', 'Miller', 'Mood', '1940s', 'jump', 'blues', 'style', 'Jump', 'blues', 'boogie', 'woogie', 'wave', 'band', 'music', 'saxophone', 'brass', 'instruments', 'guitar', 'rhythm', 'section', 'tempo', 'sound', 'vocals', 'Jump', 'blues', 'tunes', 'Louis', 'Jordan', 'Big', 'Joe', 'Turner', 'Kansas', 'City', 'Missouri', 'development', 'styles', 'rock', 'roll', 'rhythm', 'blues.[89', 'Dallas', 'T', 'Bone', 'Walker', 'California', 'blues', 'transition', 'blues', 'la', 'Lonnie', 'Johnson', 'Carr', 'jump', 'blues', 'style', 'blues', 'jazz', 'scene', 'Los', 'Angeles', 'transition', 'country', 'blues', 'blues', 'waves', 'crisis', 'booms', 'blacks', 'areas', 'movement', 'Great', 'Migration', 'boom', 'World', 'War', 'II', 'migration', 'population', 'Second', 'Great', 'Migration', 'increase', 'income', 'blacks', 'migrants', 'market', 'music', 'industry', 'term', 'race', 'record', 'music', 'industry', 'music', 'term', 'rhythm', 'blues', 'market', 'Billboard', 'magazine', 'Rhythm', 'Blues', 'marketing', 'strategy', 'trends', 'blues', 'music', 'use', 'instruments', 'amplification', 'generalization', 'blues', 'blues', 'shuffle', 'rhythm', 'blues', 'R&B', 'stream', 'consequences', 'blues', 'music', 'jazz', 'gospel', 'music', 'component', 'R&B.[92', 'John', 'Lee', 'Hooker', 'World', 'War', 'II', 'styles', 'blues', 'cities', 'Chicago,[93', 'Detroit[95][96', 'St.', 'Louis', 'blues', 'guitars', 'bass', 'bass', 'guitar', 'drums', 'harmonica', 'blues', 'harp', 'microphone', 'PA', 'system', 'guitar', 'amplifier', 'Chicago', 'center', 'blues', 'Muddy', 'Waters', 'success', 'Chicago', 'blues', 'extent', 'Delta', 'blues', 'performers', 'Mississippi', 'region', 'Howlin', 'Wolf', 'Muddy', 'Waters', 'Willie', 'Dixon', 'Jimmy', 'Reed', 'Mississippi', 'Chicago', 'Great', 'Migration', 'style', 'use', 'guitar', 'slide', 'guitar', 'harmonica', 'rhythm', 'section', 'bass', 'drums.[98', 'saxophonist', 'J.', 'T.', 'Brown', 'bands', 'Elmore', 'James', 'J.', 'B.', 'Lenoir', 'saxophone', 'instrument', 'support', 'instrument', 'Little', 'Walter', 'Sonny', 'Boy', 'Williamson', 'Rice', 'Miller', 'Sonny', 'Terry', 'harmonica', 'harp', 'blues', 'musicians', 'players', 'Chicago', 'blues', 'scene', 'harp', 'players', 'Big', 'Walter', 'Horton', 'Muddy', 'Waters', 'Elmore', 'James', 'use', 'slide', 'guitar', 'Howlin', 'Wolf', 'Muddy', 'Waters', 'voices', 'bassist', 'songwriter', 'composer', 'Willie', 'Dixon', 'role', 'Chicago', 'blues', 'scene', 'blues', 'songs', 'period', 'Hoochie', 'Coochie', 'Man', 'Love', 'Muddy', 'Waters', 'Wang', 'Dang', 'Doodle', 'Back', 'Door', 'Man', 'Howlin', 'Wolf', 'artists', 'Chicago', 'blues', 'style', 'Chicago', 'Chess', 'Records', 'Checker', 'Records', 'labels', 'blues', 'labels', 'era', 'Vee', 'Jay', 'Records', 'J.O.B.', 'Records', '1950s', 'Chicago', 'labels', 'Sam', 'Phillips', 'Sun', 'Records', 'company', 'Memphis', 'B.', 'B.', 'King', 'Howlin', 'Wolf', 'Chicago', 'Phillips', 'Elvis', 'Presley', 'Sun', 'label', 'audience', 'rock', 'roll.[100', '1950s', 'blues', 'influence', 'music', 'musicians', 'Bo', 'Diddley[95', 'Chuck', 'Berry,[101', 'Chess', 'Chicago', 'blues', 'playing', 'styles', 'aspects', 'blues', 'Chicago', 'blues', 'Louisiana', 'zydeco', 'Clifton', 'Chenier[103', 'blues', 'accents', 'Zydeco', 'musicians', 'electric', 'solo', 'guitar', 'cajun', 'arrangements', 'blues', 'standards', 'Keith', 'Richards', 'Rolling', 'Stones', 'Richards', 'blues', 'forefront', 'rock', 'music', 'bluesmen', 'Muddy', 'Waters', 'England', 'blues', 'root', 'Muddy', 'Waters', 'tour', 'Waters', 'audience', 'tendency', 'skiffle', 'brand', 'blues', 'amp', 'Chicago', 'brand', 'blues', 'audience', 'performance', 'performance', 'musicians', 'Alexis', 'Korner', 'Cyril', 'Davies', 'style', 'Invasion', 'Rolling', 'Stones', 'Yardbirds.[104', '1950s', 'blues', 'style', 'Chicago', 'West', 'Side', 'Magic', 'Sam', 'Buddy', 'Guy', 'Otis', 'Rush', 'Cobra', 'Records.[105', 'Side', 'sound', 'support', 'rhythm', 'guitar', 'bass', 'guitar', 'drums', 'Guy', 'Freddie', 'King', 'Magic', 'Slim', 'Luther', 'Allison', 'lead', 'guitar.[106][107', 'Expressive', 'guitar', 'solos', 'feature', 'music', 'blues', 'artists', 'John', 'Lee', 'Hooker', 'influences', 'Chicago', 'style', 'John', 'Lee', 'Hooker', 'blues', 'Hooker', 'voice', 'guitar', 'boogie', 'woogie', 'style', 'guitar', 'boogie', 'hit', 'Boogie', 'Chillen', 'number', 'R&B', 'charts', '1950s', 'swamp', 'blues', 'Baton', 'Rouge', 'performers', 'Lightnin', 'Slim,[109', 'Slim', 'Harpo,[110', 'Sam', 'Myers', 'Jerry', 'McCain', 'producer', 'J.', 'D.', 'Jay', 'Miller', 'Excello', 'label', 'Jimmy', 'Reed', 'swamp', 'blues', 'pace', 'use', 'harmonica', 'Chicago', 'blues', 'style', 'performers', 'Little', 'Walter', 'Muddy', 'Waters', 'Songs', 'genre', 'Back', 'King', 'Bee', 'Alan', 'Lomax', 'recordings', 'Mississippi', 'Fred', 'McDowell', 'attention', 'blues', 'folk', 'circuit', 'McDowell', 'style', 'North', 'Mississippi', 'hill', 'country', 'blues', 'musicians.[111', '1960s', 'Blues', 'B.B.', 'King', 'guitar', 'Lucille', 'beginning', '1960s', 'genres', 'music', 'rock', 'roll', 'soul', 'part', 'music', 'performers', 'Rolling', 'Stones', 'Beatles', 'music', 'audiences', 'U.S.', 'blues', 'artists', 'Muddy', 'Waters', 'foreground', 'Bluesmen', 'Big', 'Bill', 'Broonzy', 'Willie', 'Dixon', 'markets', 'Europe', 'Dick', 'Waterman', 'blues', 'Europe', 'role', 'blues', 'music', 'UK', 'U.S.', 'blues', 'legends', 'UK', 'blues', 'rock', 'bands', 'role', 'Blues', 'performers', 'John', 'Lee', 'Hooker', 'Muddy', 'Waters', 'audiences', 'artists', 'blues', 'New', 'York', 'Taj', 'Mahal', 'John', 'Lee', 'Hooker', 'blues', 'style', 'rock', 'elements', 'musicians', 'style', 'album', 'Endless', 'Boogie', 'B.', 'B.', 'King', 'singing', 'virtuoso', 'guitar', 'technique', 'title', 'king', 'blues', 'King', 'style', 'guitar', 'string', 'vibrato', 'blues', 'contrast', 'Chicago', 'style', 'King', 'band', 'brass', 'support', 'saxophone', 'trumpet', 'trombone', 'slide', 'guitar', 'harp', 'Tennessee', 'Bobby', 'Bland', 'B.', 'B.', 'King', 'blues', 'R&B', 'genres', 'period', 'Freddie', 'King', 'Albert', 'King', 'rock', 'soul', 'musicians', 'Eric', 'Clapton', 'Booker', 'T', 'MGs', 'influence', 'styles', 'music', 'Koko', 'Taylor', 'Queen', 'Blues', 'voice', 'presence', 'music', 'rights', 'movement[114', 'Free', 'Speech', 'Movement', 'U.S.', 'resurgence', 'interest', 'roots', 'music', 'music', 'festivals', 'Newport', 'Folk', 'blues', 'audience', 'interest', 'blues', 'performers', 'Son', 'House', 'Mississippi', 'John', 'Hurt', 'Skip', 'James', 'Reverend', 'Gary', 'Davis.[114', 'compilations', 'prewar', 'blues', 'Yazoo', 'Records', 'J.', 'B.', 'Lenoir', 'Chicago', 'blues', 'movement', 'LPs', 'guitar', 'Willie', 'Dixon', 'bass', 'drums', 'songs', 'Europe,[116', 'issues', 'racism', 'Vietnam', 'War', 'issues', 'period', 'album', 'Alabama', 'Blues', 'song', 'lyric', 'Alabama', 'place', 'Alabama', 'place', 'sister', 'brother', 'world', 'peoples', 'Texas', 'blues', 'guitarist', 'Stevie', 'Ray', 'Vaughan', 'White', 'audiences', 'interest', 'blues', '1960s', 'Chicago', 'Paul', 'Butterfield', 'Blues', 'Band', 'guitarist', 'Michael', 'Bloomfield', 'singer', 'songwriter', 'Nick', 'Gravenites', 'blues', 'movement', 'style', 'blues', 'UK', 'musicians', 'Cyril', 'Davies', 'Alexis', 'Korner', 'Blues', 'Incorporated', 'Fleetwood', 'Mac', 'John', 'Mayall', 'Bluesbreakers', 'Rolling', 'Stones', 'Animals', 'Yardbirds', 'Aynsley', 'Dunbar', 'Chicken', 'Shack,[118', 'Jethro', 'Tull', 'Cream', 'musician', 'Rory', 'Gallagher', 'blues', 'songs', 'Delta', 'Chicago', 'blues', 'traditions', 'Amiri', 'Baraka', 'LeRoi', 'Jones', 'book', 'history', 'blues', 'Blues', 'People', 'Negro', 'Music', 'White', 'America', 'blues', 'musicians', '1960s', 'number', 'blues', 'rock', 'performers', 'Canned', 'Heat', 'Janis', 'Joplin', 'Johnny', 'Winter', 'J.', 'Geils', 'Band', 'Cooder', 'Allman', 'Brothers', 'Band', 'blues', 'rock', 'performer', 'Jimi', 'Hendrix', 'rarity', 'field', 'time', 'man', 'rock', 'Hendrix', 'guitarist', 'pioneer', 'use', 'distortion', 'feedback', 'music.[119', 'artists', 'others', 'blues', 'music', 'development', 'rock', 'music', '1960s', 'singer', 'Jo', 'Ann', 'Kelly', 'recording', 'career', 'US', '1970s', 'singers', 'Bonnie', 'Raitt', 'Phoebe', 'Snow', 'blues.[120', '1970s', 'Texas', 'rock', 'blues', 'style', 'guitars', 'rhythm', 'roles', 'contrast', 'West', 'Side', 'blues', 'Texas', 'style', 'rock', 'blues', 'movement', 'artists', 'Texas', 'style', 'Johnny', 'Winter', 'Stevie', 'Ray', 'Vaughan', 'Fabulous', 'Thunderbirds', 'harmonica', 'player', 'singer', 'songwriter', 'Kim', 'Wilson', 'ZZ', 'Top', 'artists', 'careers', '1970s', 'success', 'decade.[121', '1980s', 'singer', 'Zucchero', 'Father', 'Blues', 'blues', 'artists', 'success.[122', 'resurgence', 'interest', 'blues', 'part', 'population', 'Jackson', 'Mississippi', 'regions', 'soul', 'blues', 'soul', 'music', 'heart', 'movement', 'life', 'success', 'recordings', 'Jackson', 'Malaco', 'label:[123', 'Z.', 'Z.', 'Hill', 'Down', 'Home', 'Blues', 'Little', 'Milton', 'Blues', 'Alright', 'performers', 'style', 'blues', 'Bobby', 'Rush', 'Denise', 'LaSalle', 'Sir', 'Charles', 'Jones', 'Bettye', 'LaVette', 'Marvin', 'Sease', 'Peggy', 'Scott', 'Adams', 'Clarence', 'Carter', 'Charles', 'Bradley,[124', 'Trudy', 'Lynn', 'Roy', 'C', 'Barbara', 'Carr', 'Willie', 'Clayton', 'Shirley', 'Brown', 'others', 'Eric', 'Clapton', 'Hyde', 'Park', 'London', 'June', '1980s', 'blues', 'forms', 'album', 'Strong', 'Persuader', 'Robert', 'Cray', 'blues', 'artist', 'Stevie', 'Ray', 'Vaughan', 'Texas', 'Flood', 'Texas', 'guitarist', 'stage', 'John', 'Lee', 'Hooker', 'popularity', 'album', 'Healer', 'Eric', 'Clapton', 'performances', 'Blues', 'Breakers', 'Cream', 'comeback', '1990s', 'album', 'Unplugged', 'blues', 'numbers', 'guitar', '1990s', 'recording', 'advances', 'marketing', 'strategies', 'video', 'clip', 'production', 'costs', 'spontaneity', 'improvisation', 'component', 'blues', '1980s', '1990s', 'publications', 'Living', 'Blues', 'Blues', 'Revue', 'cities', 'blues', 'societies', 'blues', 'festivals', 'Tedeschi', 'Trucks', 'Band', \"Gov't\", 'Mule', 'blues', 'rock', 'albums', 'blues', 'singers', 'Bonnie', 'Raitt', 'Susan', 'Tedeschi', 'Sue', 'Foley', 'Shannon', 'Curfman', 'albums', 'Etta', 'James', 'career', 'decades', 'blues', 'world', '1990s', 'voice', 'ability', 'blues', 'soul', 'gospel', 'R&B.', '1990s', 'hill', 'country', 'blues', 'recognition', 'blues', 'rock', 'music', 'circles', 'Mississippi', 'artists', 'R.', 'L.', 'Burnside', 'Junior', 'Blues', 'performers', 'range', 'genres', 'example', 'array', 'nominees', 'Blues', 'Music', 'Awards', 'W.C.', 'Handy', 'Awards)[126', 'Grammy', 'Awards', 'Best', 'Contemporary', 'Traditional', 'Blues', 'Album', 'Billboard', 'Blues', 'Album', 'chart', 'overview', 'blues', 'blues', 'music', 'blues', 'labels', 'Alligator', 'Records', 'Ruf', 'Records', 'Severn', 'Records', 'Chess', 'Records', 'MCA', 'Delmark', 'Records', 'NorthernBlues', 'Music', 'Fat', 'Possum', 'Records', 'Vanguard', 'Records', 'Artemis', 'Records', 'labels', 'blues', 'rarities', 'Arhoolie', 'Records', 'Smithsonian', 'Folkways', 'Recordings', 'heir', 'Folkways', 'Records', 'Yazoo', 'Records', 'Shanachie', 'Records', 'impact', 'Joe', 'Bonamassa', 'virtuoso', 'blues', 'guitarist', 'blues', 'rock', 'genre', 'audiences', 'Blues', 'styles', 'forms', 'bar', 'blues', 'melodies', 'blues', 'scale', 'genres', 'music', 'rock', 'roll', 'jazz', 'music.[127', 'jazz', 'folk', 'rock', 'performers', 'Louis', 'Armstrong', 'Duke', 'Ellington', 'Miles', 'Davis', 'Bob', 'Dylan', 'blues', 'recordings', 'blues', 'scale', 'songs', 'Harold', 'Arlen', 'Blues', 'Night', 'blues', 'ballads', 'works', 'George', 'Gershwin', 'Rhapsody', 'Blue', 'Concerto', 'F', 'Gershwin', 'Prelude', 'piano', 'example', 'blues', 'form', 'strictness', 'blues', 'scale', 'music', 'frames', 'ladder', 'thirds', 'rock', 'music', 'example', 'Hard', 'Day', 'Night', 'Blues', 'forms', 'theme', 'Batman', 'teen', 'idol', 'Fabian', 'Forte', 'hit', 'Loose', 'country', 'music', 'star', 'Jimmie', 'Rodgers', 'music', 'guitarist', 'vocalist', 'Tracy', 'Chapman', 'hit', 'Reason', 'Blues', 'singing', 'emotion', 'influence', 'singing', 'males', 'singing', 'emoting', 'matter', 'projection', 'notes', 'Robert', 'Christgau', 'country', 'bluesmen', 'Skip', 'James', 'Charley', 'Patton', 'Georgia', 'Tom', 'Dorsey', 'country', 'blues', 'influences', 'singing', 'Dorsey', 'Gospel', 'music.[129', 'Gospel', 'music', '1930s', 'Golden', 'Gate', 'Quartet', 'soul', 'music', 'Sam', 'Cooke', 'Ray', 'Charles', 'James', 'Brown', 'gospel', 'blues', 'music', 'elements', '1960s', '1970s', 'gospel', 'blues', 'soul', 'blues', 'music', 'music', '1970s', 'soul', 'funk', 'antecedent', 'hip', 'hop', 'R&B.', 'R&B', 'music', 'spirituals', 'blues', 'spirituals', 'descendant', 'New', 'England', 'traditions', 'Isaac', 'Watts', 'hymns', 'rhythms', 'call', 'response', 'forms', 'Spirituals', 'chants', 'community', 'blues', 'singing', 'communities', 'mass', 'worship', 'gatherings', 'camp', 'meetings', 'Edward', 'P.', 'Comentale', 'blues', 'medium', 'art', 'self', 'expression', 'Delta', 'shacks', 'Chicago', 'tenements', 'Harlem', 'cabarets', 'blues', 'origins', 'medium', 'arena', 'shaping', 'identity', 'community', '\"[130', 'Duke', 'Ellington', 'band', 'bebop', 'genres', 'Ellington', 'blues', 'form.[131', 'World', 'War', 'II', 'boundaries', 'blues', 'jazz', 'jazz', 'structures', 'brass', 'bands', 'blues', 'blues', 'forms', 'bar', 'blues', 'jump', 'blues', '1940s', 'styles', 'WWII', 'blues', 'influence', 'jazz', 'classics', 'Charlie', 'Parker', 'Time', 'blues', 'scale', 'notes', 'Bebop', 'shift', 'role', 'jazz', 'style', 'music', 'art', 'musician', 'music', 'audience', 'blues', 'jazz', 'split', 'border', 'blues', 'jazz', 'blues', 'bar', 'structure', 'blues', 'scale', 'influence', 'rock', 'roll', 'music', 'Rock', 'roll', 'blues', 'backbeat', 'Carl', 'Perkins', 'blues', 'country', 'beat', 'Rockabillies', 'bar', 'blues', 'bluegrass', 'beat', 'Hound', 'Dog', 'bar', 'structure', 'harmony', 'lyrics', 'melody', 'third', 'tonic', 'seventh', 'subdominant', 'blues', 'song', 'rock', 'roll', 'song', 'Jerry', 'Lee', 'Lewis', 'style', 'rock', 'roll', 'blues', 'boogie', 'woogie', 'style', 'music', 'rock', 'roll', 'label', 'rock', 'roll', 'Jerry', 'Lee', 'Lewis', 'blues', 'boogie', 'woogie', 'bridge', 'rock', 'roll', 'blues', 'rock', 'roll', 'songs', 'blues', 'Mama', 'Johnny', 'B.', 'Goode', 'Blue', 'Suede', 'Shoes', 'Lotta', 'Shakin', 'Goin', 'Rattle', 'Roll', 'Long', 'Tall', 'Sally', 'rock', 'musicians', 'themes', 'innuendos', 'blues', 'music', 'gal', 'Sue', 'Tutti', 'Frutti', 'Little', 'Richard', 'girl', 'dress', 'Birdland', 'night', 'Ray', 'Charles', 'bar', 'blues', 'structure', 'pop', 'songs', 'Bob', 'Dylan', 'Believers', 'Esther', 'Abi', 'Ofarim', 'Cinderella', 'Rockefella', 'country', 'music', 'blues.[135', 'Jimmie', 'Rodgers', 'Moon', 'Mullican', 'Bob', 'Wills', 'Bill', 'Monroe', 'Hank', 'Williams', 'blues', 'singers', 'music', 'blues', 'glance', 'country', 'pop', 'artists', 'Eddy', 'Arnold', 'Arnold', 'bluesy', 'songs', 'Heart', 'lot', 'era', 'outlaw', 'country', 'music', 'Willie', 'Nelson', 'Waylon', 'Jennings', 'blues', 'Jerry', 'Lee', 'Lewis', 'country', 'music', 'decline', '1950s', 'style', 'rock', 'roll', 'blues', 'blues', 'standards', 'albums', 'culture', 'music', 'Taj', 'Mahal', 'movie', 'Sounder', 'revival', 'interest', 'blues', 'genres', 'blues', 'devil', 'music', 'music', 'devil', 'violence', 'behavior.[136', 'century', 'blues', 'audiences', 'blues', 'association', 'devil', 'characteristic', 'blues', 'lyrics', 'culture', '1920s', '1960s', 'devil', 'connection', 'blues', 'memory', 'number', 'reasons', 'sense', 'Robert', 'Johnson', 'soul', 'devil', 'crossroads', 'study', 'devil', 'role', 'blues', 'Crossroads', 'Devil', 'Blues', 'Tradition.[137', 'blues', 'revival', '1960s', '1970s', 'blues', 'artist', 'Taj', 'Mahal', 'Texas', 'bluesman', 'Lightnin', 'Hopkins', 'music', 'film', 'Sounder', 'film', 'Mahal', 'Grammy', 'nomination', 'Best', 'Original', 'Score', 'Motion', 'Picture', 'BAFTA', 'nomination.[citation', 'years', 'Mahal', 'blues', 'banjo', 'composition', 'claw', 'hammer', 'style', 'movie', 'release', 'Songcatcher', 'story', 'preservation', 'roots', 'music', 'Appalachia', 'Dan', 'Aykroyd', 'blues', 'music', 'role', 'Blues', 'Brothers', 'film', 'blues', 'artists', 'genre', 'audience', 'example', 'blues', 'style', 'music', 'century', 'Dan', 'Aykroyd', 'John', 'Belushi', 'film', 'Blues', 'Brothers', 'film', 'influencers', 'rhythm', 'blues', 'Ray', 'Charles', 'James', 'Brown', 'Cab', 'Calloway', 'Aretha', 'Franklin', 'John', 'Lee', 'Hooker', 'band', 'tour', 'Blues', 'Brothers', 'marquee', 'sequel', 'Blues', 'Brothers', 'success', 'number', 'blues', 'artists', 'B.B.', 'King', 'Bo', 'Diddley', 'Erykah', 'Badu', 'Eric', 'Clapton', 'Steve', 'Winwood', 'Charlie', 'Musselwhite', 'Blues', 'Traveler', 'Jimmie', 'Vaughan', 'Jeff', 'Baxter', 'Martin', 'Scorsese', 'efforts', 'blues', 'audience', 'directors', 'Clint', 'Eastwood', 'Wim', 'Wenders', 'series', 'documentary', 'films', 'PBS', 'Blues.[citation', 'rendition', 'compilations', 'blues', 'artists', 'series', 'quality', 'CDs', 'Blues', 'vocalist', 'Keb', 'Mo', 'blues', 'rendition', 'America', 'Beautiful', 'season', 'television', 'series', 'West', 'Wing', 'blues', 'season', 'episode', 'Performance', 'White', 'House', 'White', 'Blues', 'Barack', 'Michelle', 'Obama', 'show', 'performances', 'B.B.', 'King', 'Buddy', 'Guy', 'Gary', 'Clark', 'Jr.', 'Jeff', 'Beck', 'Derek', 'Trucks', 'Keb', 'Mo', 'others.[138']\n"
     ]
    }
   ],
   "source": [
    "#Extract and print all the nouns present in the below text\n",
    "import spacy\n",
    "nlp = spacy.load(\"en_core_web_sm\")\n",
    "\n",
    "file_path = \"blues.txt\"  \n",
    "with open(file_path, \"r\", encoding=\"utf-8\") as file:\n",
    "    text = file.read()\n",
    "\n",
    "doc = nlp(text)\n",
    "\n",
    "nouns = [token.text for token in doc if token.pos_ in [\"NOUN\", \"PROPN\"]]\n",
    "\n",
    "print(\"Nouns in the text:\")\n",
    "print(nouns)"
   ]
  },
  {
   "cell_type": "code",
   "execution_count": 22,
   "id": "ac4ba58b-9fe9-4e81-9b2f-dc8e1ebecaaf",
   "metadata": {},
   "outputs": [
    {
     "name": "stdout",
     "output_type": "stream",
     "text": [
      "Similarity between the documents: 0.99\n"
     ]
    },
    {
     "name": "stderr",
     "output_type": "stream",
     "text": [
      "C:\\Users\\HRISHITA\\AppData\\Local\\Temp\\ipykernel_14656\\30655775.py:15: UserWarning: [W007] The model you're using has no word vectors loaded, so the result of the Doc.similarity method will be based on the tagger, parser and NER, which may not give useful similarity judgements. This may happen if you're using one of the small models, e.g. `en_core_web_sm`, which don't ship with word vectors and only use context-sensitive tensors. You can always add your own word vectors, or use one of the larger models instead if available.\n",
      "  similarity_score = doc1.similarity(doc2)\n"
     ]
    }
   ],
   "source": [
    "#Find the similarity between any two text documents \n",
    "import spacy\n",
    "\n",
    "nlp = spacy.load(\"en_core_web_sm\")  \n",
    "\n",
    "with open(\"blues.txt\", \"r\", encoding=\"utf-8\") as file1:\n",
    "    text1 = file1.read()\n",
    "\n",
    "with open(\"jazz.txt\", \"r\", encoding=\"utf-8\") as file2:\n",
    "    text2 = file2.read()\n",
    "\n",
    "doc1 = nlp(text1)\n",
    "doc2 = nlp(text2)\n",
    "\n",
    "similarity_score = doc1.similarity(doc2)\n",
    "\n",
    "print(f\"Similarity between the documents: {similarity_score:.2f}\")"
   ]
  },
  {
   "cell_type": "code",
   "execution_count": 4,
   "id": "25802c79-5115-4efb-947b-827ea016f0ca",
   "metadata": {},
   "outputs": [
    {
     "name": "stdout",
     "output_type": "stream",
     "text": [
      "Sentiment Polarity: 0.09\n",
      "Overall Sentiment: Positive\n"
     ]
    }
   ],
   "source": [
    "#Detect if a text is positive or negative sentiment \n",
    "from textblob import TextBlob\n",
    "\n",
    "file_path = \"blues.txt\"\n",
    "with open(file_path, \"r\", encoding=\"utf-8\") as file:\n",
    "    text = file.read()\n",
    "\n",
    "blob = TextBlob(text)\n",
    "polarity = blob.sentiment.polarity\n",
    "\n",
    "if polarity > 0:\n",
    "    sentiment = \"Positive\"\n",
    "elif polarity < 0:\n",
    "    sentiment = \"Negative\"\n",
    "else:\n",
    "    sentiment = \"Neutral\"\n",
    "\n",
    "print(f\"Sentiment Polarity: {polarity:.2f}\")\n",
    "print(f\"Overall Sentiment: {sentiment}\")"
   ]
  },
  {
   "cell_type": "code",
   "execution_count": 7,
   "id": "b09d2212-9173-4036-85d7-8c8df303200c",
   "metadata": {},
   "outputs": [
    {
     "name": "stdin",
     "output_type": "stream",
     "text": [
      "Enter your sentence:  eh\n"
     ]
    },
    {
     "name": "stdout",
     "output_type": "stream",
     "text": [
      "Sentiment Polarity: 0.00\n",
      "Overall Sentiment: Neutral\n"
     ]
    }
   ],
   "source": [
    "from textblob import TextBlob\n",
    "\n",
    "# Ask the user for a sentence\n",
    "sentence = input(\"Enter your sentence: \")\n",
    "\n",
    "# Analyze sentiment\n",
    "blob = TextBlob(sentence)\n",
    "polarity = blob.sentiment.polarity\n",
    "\n",
    "# Determine sentiment\n",
    "if polarity > 0:\n",
    "    sentiment = \"Positive\"\n",
    "elif polarity < 0:\n",
    "    sentiment = \"Negative\"\n",
    "else:\n",
    "    sentiment = \"Neutral\"\n",
    "\n",
    "# Output the result\n",
    "print(f\"Sentiment Polarity: {polarity:.2f}\")\n",
    "print(f\"Overall Sentiment: {sentiment}\")"
   ]
  },
  {
   "cell_type": "code",
   "execution_count": 6,
   "id": "97268ba4-049b-4071-b2e8-dbaf48dc607d",
   "metadata": {},
   "outputs": [
    {
     "name": "stderr",
     "output_type": "stream",
     "text": [
      "[nltk_data] Downloading package vader_lexicon to\n",
      "[nltk_data]     C:\\Users\\HRISHITA\\AppData\\Roaming\\nltk_data...\n",
      "[nltk_data]   Package vader_lexicon is already up-to-date!\n"
     ]
    },
    {
     "name": "stdin",
     "output_type": "stream",
     "text": [
      "Enter your sentence:  i do not like you\n"
     ]
    },
    {
     "name": "stdout",
     "output_type": "stream",
     "text": [
      "VADER Compound Score: -0.2755\n",
      "Overall Sentiment: Negative\n"
     ]
    }
   ],
   "source": [
    "from nltk.sentiment import SentimentIntensityAnalyzer\n",
    "import nltk\n",
    "\n",
    "nltk.download('vader_lexicon')\n",
    "\n",
    "sia = SentimentIntensityAnalyzer()\n",
    "\n",
    "sentence = input(\"Enter your sentence: \")\n",
    "\n",
    "scores = sia.polarity_scores(sentence)\n",
    "compound = scores['compound']\n",
    "\n",
    "if compound >= 0.05:\n",
    "    sentiment = \"Positive\"\n",
    "elif compound <= -0.05:\n",
    "    sentiment = \"Negative\"\n",
    "else:\n",
    "    sentiment = \"Neutral\"\n",
    "\n",
    "print(f\"VADER Compound Score: {compound}\")\n",
    "print(f\"Overall Sentiment: {sentiment}\")"
   ]
  },
  {
   "cell_type": "code",
   "execution_count": null,
   "id": "e166c520-3de8-4fd6-88c1-496b6a2fa51a",
   "metadata": {},
   "outputs": [],
   "source": []
  }
 ],
 "metadata": {
  "kernelspec": {
   "display_name": "Python 3 (ipykernel)",
   "language": "python",
   "name": "python3"
  },
  "language_info": {
   "codemirror_mode": {
    "name": "ipython",
    "version": 3
   },
   "file_extension": ".py",
   "mimetype": "text/x-python",
   "name": "python",
   "nbconvert_exporter": "python",
   "pygments_lexer": "ipython3",
   "version": "3.9.18"
  }
 },
 "nbformat": 4,
 "nbformat_minor": 5
}
